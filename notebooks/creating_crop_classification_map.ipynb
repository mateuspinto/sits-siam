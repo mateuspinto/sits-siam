{
 "cells": [
  {
   "cell_type": "code",
   "execution_count": null,
   "metadata": {},
   "outputs": [],
   "source": [
    "import geopandas as gpd\n",
    "import geemap\n",
    "import ee\n",
    "\n",
    "import concurrent.futures\n",
    "import numpy as np\n",
    "from tqdm.std import tqdm"
   ]
  },
  {
   "cell_type": "code",
   "execution_count": null,
   "metadata": {},
   "outputs": [],
   "source": [
    "gdf = gpd.read_parquet(\"data/usa_delineation/iowa.parquet\")\n",
    "# gdf = gdf.iloc[0:1000]"
   ]
  },
  {
   "cell_type": "code",
   "execution_count": null,
   "metadata": {},
   "outputs": [],
   "source": [
    "def calculate_mode_and_mean(geometry):\n",
    "\n",
    "    try:\n",
    "        geometry = ee.Geometry(geometry.__geo_interface__)\n",
    "\n",
    "        image = ee.ImageCollection('USDA/NASS/CDL') \\\n",
    "            .filter(ee.Filter.date('2023-01-01', '2023-01-02')) \\\n",
    "            .first() \\\n",
    "            .select([\"cropland\", \"confidence\"])\n",
    "        cropped_image = image.clip(geometry)\n",
    "        mode = cropped_image.select('cropland') \\\n",
    "                            .reduceRegion(reducer=ee.Reducer.mode(), \n",
    "                                        geometry=geometry, \n",
    "                                        scale=30, \n",
    "                                        maxPixels=1e13) \\\n",
    "                            .get('cropland')\n",
    "        \n",
    "        class_number = ee.Number(mode).round()\n",
    "        modal_mask = cropped_image.select('cropland').eq(class_number)\n",
    "        confidence_masked = cropped_image.select('confidence').updateMask(modal_mask)\n",
    "        mean_confidence = confidence_masked.reduceRegion(\n",
    "            reducer=ee.Reducer.mean(),\n",
    "            geometry=geometry,\n",
    "            scale=30,\n",
    "            maxPixels=1e13\n",
    "        ).get('confidence')\n",
    "\n",
    "        percent_class = modal_mask.reduceRegion(\n",
    "            reducer=ee.Reducer.mean(),\n",
    "            geometry=geometry,\n",
    "            scale=30,\n",
    "            maxPixels=1e13\n",
    "        ).get('cropland')\n",
    "\n",
    "        return class_number.getInfo(), ee.Number(mean_confidence).getInfo()/100, ee.Number(percent_class).getInfo()\n",
    "    except:  # noqa: E722\n",
    "        return -1, 0, 0"
   ]
  },
  {
   "cell_type": "code",
   "execution_count": null,
   "metadata": {},
   "outputs": [],
   "source": [
    "palette = [\n",
    "    '#ffff00',  # Milho\n",
    "    '#00ff00',  # Soja\n",
    "    '#006400',  # Trigo\n",
    "    '#8b4513',  # Feno\n",
    "    '#ff0000',  # Algodão\n",
    "    '#ff69b4',  # Milho doce\n",
    "    '#ee82ee',  # Sorgo\n",
    "    '#a52a2a',  # Alfalfa\n",
    "    '#d2691e',  # Girassol\n",
    "    '#32cd32',  # Outras plantações\n",
    "    '#ff8c00',  # Arbustos\n",
    "    '#0000ff',  # Água\n",
    "    '#708090'   # Áreas desenvolvidas\n",
    "]"
   ]
  },
  {
   "cell_type": "code",
   "execution_count": null,
   "metadata": {},
   "outputs": [],
   "source": [
    "ee.Initialize()\n",
    "\n",
    "# cdl = ee.ImageCollection('USDA/NASS/CDL') \\\n",
    "#           .filter(ee.Filter.date('2023-01-01', '2023-01-02')) \\\n",
    "#           .first() \\\n",
    "#           .select([\"cropland\", \"confidence\"])\n",
    "\n",
    "\n",
    "# region = gdf.iloc[4].geometry\n",
    "\n",
    "# print(calculate_mode_and_mean(region))\n",
    "\n",
    "# region = ee.Geometry(region.__geo_interface__).buffer(-30)\n",
    "\n",
    "# cropped_image = cdl.clip(region)\n",
    "\n",
    "# Map = geemap.Map()\n",
    "# Map.addLayer(cropped_image, {'bands': ['cropland'], 'palette': palette, 'min': 1, 'max': 254}, 'CDL Cropped')\n",
    "# Map.centerObject(region)\n",
    "\n",
    "# Map"
   ]
  },
  {
   "cell_type": "code",
   "execution_count": null,
   "metadata": {},
   "outputs": [],
   "source": [
    "# Run the function in parallel, using ThreadPoolExecutor\n",
    "croplands = np.zeros(len(gdf), dtype=np.uint8)\n",
    "confidences = np.zeros(len(gdf), dtype=np.half)\n",
    "percentages = np.zeros(len(gdf), dtype=np.half)\n",
    "\n",
    "with concurrent.futures.ThreadPoolExecutor() as executor:\n",
    "    all_futures = []\n",
    "    for n, row in gdf.iterrows():\n",
    "        all_futures.append(executor.submit(lambda geometry, x: [calculate_mode_and_mean(geometry), x], row.geometry, n))\n",
    "\n",
    "    # Get result as completed\n",
    "    for future in tqdm(concurrent.futures.as_completed(all_futures), total=len(all_futures)):\n",
    "        result, y = future.result()\n",
    "        croplands[y] = result[0]\n",
    "        confidences[y] = result[1]\n",
    "        percentages[y] = result[2]"
   ]
  },
  {
   "cell_type": "code",
   "execution_count": null,
   "metadata": {},
   "outputs": [],
   "source": [
    "gdf[\"crop_class\"] = croplands\n",
    "gdf[\"crop_confidence\"] = confidences\n",
    "gdf[\"crop_percentage\"] = percentages"
   ]
  },
  {
   "cell_type": "code",
   "execution_count": null,
   "metadata": {},
   "outputs": [],
   "source": [
    "gdf[(gdf.crop_confidence >0.9) & (gdf.crop_percentage > 0.9)].groupby(\"crop_class\").size()"
   ]
  }
 ],
 "metadata": {
  "kernelspec": {
   "display_name": "venv",
   "language": "python",
   "name": "python3"
  },
  "language_info": {
   "codemirror_mode": {
    "name": "ipython",
    "version": 3
   },
   "file_extension": ".py",
   "mimetype": "text/x-python",
   "name": "python",
   "nbconvert_exporter": "python",
   "pygments_lexer": "ipython3",
   "version": "3.10.12"
  }
 },
 "nbformat": 4,
 "nbformat_minor": 2
}
