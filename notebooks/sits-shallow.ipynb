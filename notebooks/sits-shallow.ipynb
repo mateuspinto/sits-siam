{
 "cells": [
  {
   "cell_type": "code",
   "execution_count": null,
   "metadata": {},
   "outputs": [],
   "source": [
    "import pandas as pd\n",
    "from sklearn.metrics import ConfusionMatrixDisplay, f1_score\n",
    "from lightgbm import LGBMClassifier"
   ]
  },
  {
   "cell_type": "code",
   "execution_count": null,
   "metadata": {},
   "outputs": [],
   "source": [
    "df = pd.read_parquet(\"data/california_sits_bert_original.parquet\")[[\"id\", \"label\", \"use_bert\"]].groupby(\"id\").first().reset_index(drop=True)\n",
    "features = pd.read_parquet(\"data/california_sits_bert_features.parquet\")\n",
    "\n",
    "train_columns = features.columns.tolist()\n",
    "df = pd.concat([df, features], axis=1)\n",
    "\n",
    "del features"
   ]
  },
  {
   "cell_type": "code",
   "execution_count": null,
   "metadata": {},
   "outputs": [],
   "source": [
    "model = LGBMClassifier(verbosity=-1, n_jobs=-1)\n",
    "model.fit(df[df.use_bert!=2][train_columns].to_numpy(), df[df.use_bert!=2].label.to_numpy())"
   ]
  },
  {
   "cell_type": "code",
   "execution_count": null,
   "metadata": {},
   "outputs": [],
   "source": [
    "# Plot confusion matrix with f1 score as title. Only one decimal is shown\n",
    "y_pred = model.predict(df[df.use_bert==2][train_columns].to_numpy())\n",
    "f1 = f1_score(df[df.use_bert==2].label, y_pred, average=\"macro\")\n",
    "disp = ConfusionMatrixDisplay.from_predictions(df[df.use_bert==2].label, y_pred, normalize=\"pred\")\n",
    "disp.ax_.set_title(f\"f1 score: {f1}\")"
   ]
  },
  {
   "cell_type": "code",
   "execution_count": null,
   "metadata": {},
   "outputs": [],
   "source": [
    "# Create dataframe with feature importances, sorted by importance, showing the first 20 most important features\n",
    "importances = pd.DataFrame(\n",
    "    {\"feature\": train_columns, \"importance\": model.feature_importances_}\n",
    ")\n",
    "importances = importances.sort_values(\"importance\", ascending=False)\n",
    "\n",
    "importances.head(20)"
   ]
  }
 ],
 "metadata": {
  "kernelspec": {
   "display_name": "venv",
   "language": "python",
   "name": "python3"
  },
  "language_info": {
   "codemirror_mode": {
    "name": "ipython",
    "version": 3
   },
   "file_extension": ".py",
   "mimetype": "text/x-python",
   "name": "python",
   "nbconvert_exporter": "python",
   "pygments_lexer": "ipython3",
   "version": "3.10.12"
  }
 },
 "nbformat": 4,
 "nbformat_minor": 2
}
