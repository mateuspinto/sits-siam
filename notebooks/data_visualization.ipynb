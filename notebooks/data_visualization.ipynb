{
 "cells": [
  {
   "cell_type": "code",
   "execution_count": null,
   "metadata": {},
   "outputs": [],
   "source": [
    "from sits_siam.utils import SitsDataset\n",
    "from sits_siam.augment import AddNDVIWeights, RandomChanSwapping, RandomChanRemoval, RandomAddNoise, RandomTempSwapping, RandomTempShift, RandomTempRemoval, AddMissingMask, Normalize\n",
    "\n",
    "import random\n",
    "import numpy as np\n",
    "import matplotlib.pyplot as plt\n",
    "\n",
    "import pandas as pd\n",
    "\n",
    "np.set_printoptions(precision=4, suppress=True)"
   ]
  },
  {
   "cell_type": "code",
   "execution_count": null,
   "metadata": {},
   "outputs": [],
   "source": [
    "df = pd.read_parquet(\"data/california_sits_bert_original.parquet\")\n",
    "df = df[df.label==5].reset_index(drop=True)\n",
    "\n",
    "aug_dataset = SitsDataset(\n",
    "    df,\n",
    "    max_seq_len=45,\n",
    "    transform=[\n",
    "        AddNDVIWeights(),\n",
    "        # RandomChanSwapping(),\n",
    "        # RandomChanRemoval(),\n",
    "        RandomAddNoise(0.02),\n",
    "        RandomTempSwapping(max_distance=3),\n",
    "        RandomTempShift(),\n",
    "        RandomTempRemoval(),\n",
    "        AddMissingMask(),\n",
    "        # Normalize()\n",
    "    ],\n",
    ")\n",
    "\n",
    "common_dataset = SitsDataset(\n",
    "    df,\n",
    "    max_seq_len=45,\n",
    "    transform=[\n",
    "        AddNDVIWeights(),\n",
    "        # RandomChanSwapping(),\n",
    "        # RandomChanRemoval(),\n",
    "        # RandomAddNoise(),\n",
    "        # RandomTempSwapping(),\n",
    "        # RandomTempShift(),\n",
    "        # RandomTempRemoval(),\n",
    "        AddMissingMask(),\n",
    "        # Normalize()\n",
    "    ],\n",
    ")"
   ]
  },
  {
   "cell_type": "code",
   "execution_count": null,
   "metadata": {},
   "outputs": [],
   "source": [
    "def plot_single_sample_lines(sample, ax=None):\n",
    "    x = sample['x'].numpy()\n",
    "    doy = sample['doy'].numpy()\n",
    "    mask = sample['mask'].numpy()\n",
    "\n",
    "    x = x[~mask]\n",
    "    doy = doy[~mask]\n",
    "\n",
    "    if ax is None:\n",
    "        _, ax = plt.subplots(figsize=(10, 5))\n",
    "\n",
    "    ax.plot(doy, x[:, 0], color='blue')\n",
    "    ax.plot(doy, x[:, 1], color='green')\n",
    "    ax.plot(doy, x[:, 2], color='red')\n",
    "    ax.plot(doy, x[:, 3], color='orange')\n",
    "    ax.plot(doy, x[:, 4], color='purple')\n",
    "    ax.plot(doy, x[:, 5], color='brown')\n",
    "    ax.plot(doy, x[:, 6], color='pink')\n",
    "    ax.plot(doy, x[:, 7], color='gray')\n",
    "    ax.plot(doy, x[:, 8], color='olive')\n",
    "    ax.plot(doy, x[:, 9], color='cyan')\n",
    "\n",
    "    ax.set_xlim(0, 366)\n",
    "    ax.set_ylim(-0.1, 1)\n",
    "    ax.grid(True)"
   ]
  },
  {
   "cell_type": "code",
   "execution_count": null,
   "metadata": {},
   "outputs": [],
   "source": [
    "fig, ax = plt.subplots(1, 2, figsize=(2*10, 5))\n",
    "\n",
    "sample_id = 250\n",
    "\n",
    "plot_single_sample_lines(common_dataset[sample_id], ax[0])\n",
    "plot_single_sample_lines(aug_dataset[sample_id], ax[1])\n",
    "\n",
    "fig.suptitle(\"Label = \" + str(common_dataset[sample_id][\"y\"].numpy()))\n",
    "plt.show()"
   ]
  },
  {
   "cell_type": "code",
   "execution_count": null,
   "metadata": {},
   "outputs": [],
   "source": [
    "_, ax = plt.subplots(1, 2, figsize=(2*10, 5))\n",
    "\n",
    "for y in range(100):\n",
    "    sample = common_dataset[y]\n",
    "\n",
    "    doys = sample['doy'].numpy()\n",
    "    ys = np.repeat(y, sample['doy'].shape[0])\n",
    "    colors = np.clip(sample['x'].numpy()[:, [2,1,0]]*np.pi, 0, 1)\n",
    "\n",
    "    mask = ~sample['mask'].numpy()\n",
    "\n",
    "    ax[0].scatter(doys[mask], ys[mask], c=colors[mask])\n",
    "\n",
    "    sample = aug_dataset[y]\n",
    "\n",
    "    doys = sample['doy'].numpy()\n",
    "    ys = np.repeat(y, sample['doy'].shape[0])\n",
    "    colors = np.clip(sample['x'].numpy()[:, [2,1,0]]*np.pi, 0, 1)\n",
    "\n",
    "    mask = ~sample['mask'].numpy()\n",
    "\n",
    "    ax[1].scatter(doys[mask], ys[mask], c=colors[mask])\n",
    "\n",
    "plt.show()"
   ]
  }
 ],
 "metadata": {
  "kernelspec": {
   "display_name": "venv",
   "language": "python",
   "name": "python3"
  },
  "language_info": {
   "codemirror_mode": {
    "name": "ipython",
    "version": 3
   },
   "file_extension": ".py",
   "mimetype": "text/x-python",
   "name": "python",
   "nbconvert_exporter": "python",
   "pygments_lexer": "ipython3",
   "version": "3.12.3"
  }
 },
 "nbformat": 4,
 "nbformat_minor": 2
}
