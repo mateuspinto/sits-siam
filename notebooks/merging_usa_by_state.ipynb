{
 "cells": [
  {
   "cell_type": "code",
   "execution_count": 1,
   "metadata": {},
   "outputs": [],
   "source": [
    "import geopandas as gpd\n",
    "import pandas as pd\n",
    "from tqdm.std import tqdm"
   ]
  },
  {
   "cell_type": "code",
   "execution_count": 2,
   "metadata": {},
   "outputs": [],
   "source": [
    "USA_EQUAL_AREA = 'PROJCS[\"US_National_Atlas_Equal_Area\",GEOGCS[\"GCS_Sphere_Clarke_1866_Authalic\",DATUM[\"D_Sphere_Clarke_1866_Authalic\",SPHEROID[\"Sphere_Clarke_1866_Authalic\",6370997.0,0.0]],PRIMEM[\"Greenwich\",0.0],UNIT[\"Degree\",0.0174532925199433]],PROJECTION[\"Lambert_Azimuthal_Equal_Area\"],PARAMETER[\"latitude_of_center\",45.0],PARAMETER[\"longitude_of_center\",-100.0],PARAMETER[\"false_easting\",0.0],PARAMETER[\"false_northing\",0.0],UNIT[\"Meter\",1.0]]'"
   ]
  },
  {
   "cell_type": "code",
   "execution_count": null,
   "metadata": {},
   "outputs": [],
   "source": [
    "states = gpd.read_parquet(\n",
    "    \"data/us-state-boundaries.parquet\", columns=[\"name\", \"geo_point_2d\", \"st_asgeojson\"]\n",
    ")\n",
    "\n",
    "original_crs = states.crs\n",
    "states.drop(columns=[\"geo_point_2d\"], inplace=True)\n",
    "states.rename(columns={\"st_asgeojson\": \"geometry\"}, inplace=True)\n",
    "states.set_geometry(\"geometry\", inplace=True)\n",
    "states.set_crs(original_crs, inplace=True)\n",
    "\n",
    "states[\"name\"] = states[\"name\"].str.lower().str.replace(\" \", \"_\")\n",
    "\n",
    "states[\"geometry\"] = states.to_crs(USA_EQUAL_AREA).simplify(9).to_crs(\"EPSG:4326\")\n",
    "\n",
    "states.sample(10, random_state=42)"
   ]
  },
  {
   "cell_type": "code",
   "execution_count": 4,
   "metadata": {},
   "outputs": [],
   "source": [
    "not_valid_states = [\n",
    "    \"puerto_rico\",\n",
    "    \"commonwealth_of_the_northern_mariana_islands\",\n",
    "    \"american_samoa\",\n",
    "    \"district_of_columbia\",\n",
    "    \"guam\",\n",
    "    \"united_states_virgin_islands\",\n",
    "]\n",
    "\n",
    "states = states[~states.name.isin(not_valid_states)].reset_index(drop=True)\n"
   ]
  },
  {
   "cell_type": "code",
   "execution_count": null,
   "metadata": {},
   "outputs": [],
   "source": [
    "states = states[states.name == \"california\"].reset_index(drop=True)\n",
    "states"
   ]
  },
  {
   "cell_type": "code",
   "execution_count": null,
   "metadata": {},
   "outputs": [],
   "source": [
    "for idx, state in states.iterrows():\n",
    "    state_name = state['name']\n",
    "    state_geom = state.geometry\n",
    "\n",
    "    state_gdf = gpd.GeoDataFrame([state], columns=states.columns, crs=states.crs)[[\"geometry\"]]\n",
    "\n",
    "    plots = gpd.read_parquet(\"data/varda-fieldid-2024-07-USA_0.parquet\")\n",
    "    final_gdf = gpd.overlay(plots, state_gdf, how='intersection')\n",
    "\n",
    "    for i in tqdm(range(1, 29)):\n",
    "        plots = gpd.read_parquet(f\"data/varda-fieldid-2024-07-USA_{i}.parquet\")\n",
    "        intersected_gdf = gpd.overlay(plots, state_gdf, how='intersection')\n",
    "        final_gdf = pd.concat([final_gdf, intersected_gdf], ignore_index=True)\n",
    "\n",
    "    final_gdf = final_gdf.sort_values(by=\"ha\", ascending=False).reset_index(drop=True)\n",
    "    final_gdf = gpd.GeoDataFrame(final_gdf, crs=final_gdf.crs)\n",
    "    final_gdf.to_parquet(f\"data/usa_delineation/{state_name}.parquet\", compression=\"brotli\")\n",
    "\n",
    "    print(state_name)\n",
    "    break"
   ]
  }
 ],
 "metadata": {
  "kernelspec": {
   "display_name": "venv",
   "language": "python",
   "name": "python3"
  },
  "language_info": {
   "codemirror_mode": {
    "name": "ipython",
    "version": 3
   },
   "file_extension": ".py",
   "mimetype": "text/x-python",
   "name": "python",
   "nbconvert_exporter": "python",
   "pygments_lexer": "ipython3",
   "version": "3.12.3"
  }
 },
 "nbformat": 4,
 "nbformat_minor": 2
}
