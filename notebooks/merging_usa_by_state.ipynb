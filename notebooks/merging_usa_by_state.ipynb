{
 "cells": [
  {
   "cell_type": "code",
   "execution_count": 1,
   "metadata": {},
   "outputs": [],
   "source": [
    "import geopandas as gpd\n",
    "import pandas as pd\n",
    "from tqdm.std import tqdm"
   ]
  },
  {
   "cell_type": "code",
   "execution_count": 2,
   "metadata": {},
   "outputs": [],
   "source": [
    "USA_EQUAL_AREA = 'PROJCS[\"US_National_Atlas_Equal_Area\",GEOGCS[\"GCS_Sphere_Clarke_1866_Authalic\",DATUM[\"D_Sphere_Clarke_1866_Authalic\",SPHEROID[\"Sphere_Clarke_1866_Authalic\",6370997.0,0.0]],PRIMEM[\"Greenwich\",0.0],UNIT[\"Degree\",0.0174532925199433]],PROJECTION[\"Lambert_Azimuthal_Equal_Area\"],PARAMETER[\"latitude_of_center\",45.0],PARAMETER[\"longitude_of_center\",-100.0],PARAMETER[\"false_easting\",0.0],PARAMETER[\"false_northing\",0.0],UNIT[\"Meter\",1.0]]'"
   ]
  },
  {
   "cell_type": "code",
   "execution_count": 3,
   "metadata": {},
   "outputs": [
    {
     "data": {
      "text/html": [
       "<div>\n",
       "<style scoped>\n",
       "    .dataframe tbody tr th:only-of-type {\n",
       "        vertical-align: middle;\n",
       "    }\n",
       "\n",
       "    .dataframe tbody tr th {\n",
       "        vertical-align: top;\n",
       "    }\n",
       "\n",
       "    .dataframe thead th {\n",
       "        text-align: right;\n",
       "    }\n",
       "</style>\n",
       "<table border=\"1\" class=\"dataframe\">\n",
       "  <thead>\n",
       "    <tr style=\"text-align: right;\">\n",
       "      <th></th>\n",
       "      <th>name</th>\n",
       "      <th>geometry</th>\n",
       "    </tr>\n",
       "  </thead>\n",
       "  <tbody>\n",
       "    <tr>\n",
       "      <th>0</th>\n",
       "      <td>puerto_rico</td>\n",
       "      <td>MULTIPOLYGON (((-67.20794 18.44228, -67.21713 ...</td>\n",
       "    </tr>\n",
       "    <tr>\n",
       "      <th>5</th>\n",
       "      <td>new_hampshire</td>\n",
       "      <td>POLYGON ((-72.3299 43.60021, -72.32813 43.6016...</td>\n",
       "    </tr>\n",
       "    <tr>\n",
       "      <th>33</th>\n",
       "      <td>wyoming</td>\n",
       "      <td>POLYGON ((-111.04489 43.31572, -111.04654 43.9...</td>\n",
       "    </tr>\n",
       "    <tr>\n",
       "      <th>13</th>\n",
       "      <td>massachusetts</td>\n",
       "      <td>POLYGON ((-71.49826 42.01727, -71.5277 42.0150...</td>\n",
       "    </tr>\n",
       "    <tr>\n",
       "      <th>19</th>\n",
       "      <td>nevada</td>\n",
       "      <td>POLYGON ((-119.32418 41.99392, -118.6765 41.99...</td>\n",
       "    </tr>\n",
       "    <tr>\n",
       "      <th>50</th>\n",
       "      <td>california</td>\n",
       "      <td>MULTIPOLYGON (((-124.13656 41.46445, -124.1441...</td>\n",
       "    </tr>\n",
       "    <tr>\n",
       "      <th>36</th>\n",
       "      <td>vermont</td>\n",
       "      <td>POLYGON ((-73.31328 44.26413, -73.31091 44.274...</td>\n",
       "    </tr>\n",
       "    <tr>\n",
       "      <th>26</th>\n",
       "      <td>indiana</td>\n",
       "      <td>POLYGON ((-87.52659 40.47688, -87.52566 40.836...</td>\n",
       "    </tr>\n",
       "    <tr>\n",
       "      <th>44</th>\n",
       "      <td>nebraska</td>\n",
       "      <td>POLYGON ((-104.05265 42.00172, -104.05303 43.0...</td>\n",
       "    </tr>\n",
       "    <tr>\n",
       "      <th>12</th>\n",
       "      <td>missouri</td>\n",
       "      <td>POLYGON ((-94.60803 38.84721, -94.60713 39.100...</td>\n",
       "    </tr>\n",
       "  </tbody>\n",
       "</table>\n",
       "</div>"
      ],
      "text/plain": [
       "             name                                           geometry\n",
       "0     puerto_rico  MULTIPOLYGON (((-67.20794 18.44228, -67.21713 ...\n",
       "5   new_hampshire  POLYGON ((-72.3299 43.60021, -72.32813 43.6016...\n",
       "33        wyoming  POLYGON ((-111.04489 43.31572, -111.04654 43.9...\n",
       "13  massachusetts  POLYGON ((-71.49826 42.01727, -71.5277 42.0150...\n",
       "19         nevada  POLYGON ((-119.32418 41.99392, -118.6765 41.99...\n",
       "50     california  MULTIPOLYGON (((-124.13656 41.46445, -124.1441...\n",
       "36        vermont  POLYGON ((-73.31328 44.26413, -73.31091 44.274...\n",
       "26        indiana  POLYGON ((-87.52659 40.47688, -87.52566 40.836...\n",
       "44       nebraska  POLYGON ((-104.05265 42.00172, -104.05303 43.0...\n",
       "12       missouri  POLYGON ((-94.60803 38.84721, -94.60713 39.100..."
      ]
     },
     "execution_count": 3,
     "metadata": {},
     "output_type": "execute_result"
    }
   ],
   "source": [
    "states = gpd.read_parquet(\n",
    "    \"data/us-state-boundaries.parquet\", columns=[\"name\", \"geo_point_2d\", \"st_asgeojson\"]\n",
    ")\n",
    "\n",
    "original_crs = states.crs\n",
    "states.drop(columns=[\"geo_point_2d\"], inplace=True)\n",
    "states.rename(columns={\"st_asgeojson\": \"geometry\"}, inplace=True)\n",
    "states.set_geometry(\"geometry\", inplace=True)\n",
    "states.set_crs(original_crs, inplace=True)\n",
    "\n",
    "states[\"name\"] = states[\"name\"].str.lower().str.replace(\" \", \"_\")\n",
    "\n",
    "states[\"geometry\"] = states.to_crs(USA_EQUAL_AREA).simplify(9).to_crs(\"EPSG:4326\")\n",
    "\n",
    "states.sample(10, random_state=42)"
   ]
  },
  {
   "cell_type": "code",
   "execution_count": 4,
   "metadata": {},
   "outputs": [],
   "source": [
    "not_valid_states = [\n",
    "    \"puerto_rico\",\n",
    "    \"commonwealth_of_the_northern_mariana_islands\",\n",
    "    \"american_samoa\",\n",
    "    \"district_of_columbia\",\n",
    "    \"guam\",\n",
    "    \"united_states_virgin_islands\",\n",
    "]\n",
    "\n",
    "states = states[~states.name.isin(not_valid_states)].reset_index(drop=True)\n"
   ]
  },
  {
   "cell_type": "code",
   "execution_count": 5,
   "metadata": {},
   "outputs": [
    {
     "data": {
      "text/html": [
       "<div>\n",
       "<style scoped>\n",
       "    .dataframe tbody tr th:only-of-type {\n",
       "        vertical-align: middle;\n",
       "    }\n",
       "\n",
       "    .dataframe tbody tr th {\n",
       "        vertical-align: top;\n",
       "    }\n",
       "\n",
       "    .dataframe thead th {\n",
       "        text-align: right;\n",
       "    }\n",
       "</style>\n",
       "<table border=\"1\" class=\"dataframe\">\n",
       "  <thead>\n",
       "    <tr style=\"text-align: right;\">\n",
       "      <th></th>\n",
       "      <th>name</th>\n",
       "      <th>geometry</th>\n",
       "    </tr>\n",
       "  </thead>\n",
       "  <tbody>\n",
       "    <tr>\n",
       "      <th>0</th>\n",
       "      <td>iowa</td>\n",
       "      <td>POLYGON ((-96.49878 42.56104, -96.48615 42.573...</td>\n",
       "    </tr>\n",
       "  </tbody>\n",
       "</table>\n",
       "</div>"
      ],
      "text/plain": [
       "   name                                           geometry\n",
       "0  iowa  POLYGON ((-96.49878 42.56104, -96.48615 42.573..."
      ]
     },
     "execution_count": 5,
     "metadata": {},
     "output_type": "execute_result"
    }
   ],
   "source": [
    "states = states[states.name == \"iowa\"].reset_index(drop=True)\n",
    "states"
   ]
  },
  {
   "cell_type": "code",
   "execution_count": 6,
   "metadata": {},
   "outputs": [
    {
     "name": "stderr",
     "output_type": "stream",
     "text": [
      "100%|██████████| 28/28 [03:03<00:00,  6.56s/it]\n"
     ]
    },
    {
     "name": "stdout",
     "output_type": "stream",
     "text": [
      "iowa\n"
     ]
    }
   ],
   "source": [
    "for idx, state in states.iterrows():\n",
    "    state_name = state['name']\n",
    "    state_geom = state.geometry\n",
    "\n",
    "    state_gdf = gpd.GeoDataFrame([state], columns=states.columns, crs=states.crs)[[\"geometry\"]]\n",
    "\n",
    "    plots = gpd.read_parquet(\"data/varda-fieldid-2024-07-USA_0.parquet\")\n",
    "    final_gdf = gpd.overlay(plots, state_gdf, how='intersection')\n",
    "\n",
    "    for i in tqdm(range(1, 29)):\n",
    "        plots = gpd.read_parquet(f\"data/varda-fieldid-2024-07-USA_{i}.parquet\")\n",
    "        intersected_gdf = gpd.overlay(plots, state_gdf, how='intersection')\n",
    "        final_gdf = pd.concat([final_gdf, intersected_gdf], ignore_index=True)\n",
    "\n",
    "    final_gdf = final_gdf.sort_values(by=\"ha\", ascending=False).reset_index(drop=True)\n",
    "    final_gdf = gpd.GeoDataFrame(final_gdf, crs=final_gdf.crs)\n",
    "    final_gdf.to_parquet(f\"data/usa_delineation/{state_name}.parquet\", compression=\"brotli\")\n",
    "\n",
    "    print(state_name)\n",
    "    break"
   ]
  },
  {
   "cell_type": "code",
   "execution_count": 7,
   "metadata": {},
   "outputs": [
    {
     "data": {
      "text/plain": [
       "353543"
      ]
     },
     "execution_count": 7,
     "metadata": {},
     "output_type": "execute_result"
    }
   ],
   "source": [
    "len(final_gdf)"
   ]
  },
  {
   "cell_type": "code",
   "execution_count": 6,
   "metadata": {},
   "outputs": [],
   "source": [
    "final_gdf.to_parquet(f\"data/usa_delineation/{state_name}.parquet\", compression=\"brotli\")"
   ]
  }
 ],
 "metadata": {
  "kernelspec": {
   "display_name": "venv",
   "language": "python",
   "name": "python3"
  },
  "language_info": {
   "codemirror_mode": {
    "name": "ipython",
    "version": 3
   },
   "file_extension": ".py",
   "mimetype": "text/x-python",
   "name": "python",
   "nbconvert_exporter": "python",
   "pygments_lexer": "ipython3",
   "version": "3.10.12"
  }
 },
 "nbformat": 4,
 "nbformat_minor": 2
}
