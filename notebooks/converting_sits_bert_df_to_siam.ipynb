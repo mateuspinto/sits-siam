{
 "cells": [
  {
   "cell_type": "code",
   "execution_count": null,
   "metadata": {},
   "outputs": [],
   "source": [
    "import numpy as np\n",
    "import matplotlib.pyplot as plt\n",
    "from tqdm.std import tqdm\n",
    "import pandas as pd\n",
    "\n",
    "np.set_printoptions(suppress=True)"
   ]
  },
  {
   "cell_type": "code",
   "execution_count": null,
   "metadata": {},
   "outputs": [],
   "source": [
    "def process_single_line(line, id):\n",
    "    line = line.strip()\n",
    "\n",
    "    line = list(map(int, line.split(\",\")))\n",
    "    label = line.pop()\n",
    "    line = np.array(line)\n",
    "\n",
    "    num_observations = line.shape[0]/11\n",
    "\n",
    "    # check if num_observations is an integer, if not, raise an error\n",
    "    if num_observations % 1 != 0:\n",
    "        raise ValueError(\"Number of observations is not an integer\")\n",
    "\n",
    "    num_observations = int(num_observations)\n",
    "\n",
    "    # Splitting the line in groups of num_observations\n",
    "    blue = line[:num_observations]/10000\n",
    "    green = line[num_observations:2*num_observations]/10000\n",
    "    red = line[2*num_observations:3*num_observations]/10000\n",
    "    red_edge_1 = line[3*num_observations:4*num_observations]/10000\n",
    "    red_edge_2 = line[4*num_observations:5*num_observations]/10000\n",
    "    red_edge_3 = line[5*num_observations:6*num_observations]/10000\n",
    "    nir = line[6*num_observations:7*num_observations]/10000\n",
    "    red_edge_4 = line[7*num_observations:8*num_observations]/10000\n",
    "    swir_1 = line[8*num_observations:9*num_observations]/10000\n",
    "    swir_2 = line[9*num_observations:10*num_observations]/10000\n",
    "\n",
    "    doy = line[10*num_observations:]\n",
    "\n",
    "    # Creating numpy array with all the bands and doy as columns. Also, it will have a column with number 0 to num_observations-1, and a column with the id, and a column with the label\n",
    "    data =  np.column_stack((np.repeat(id, num_observations), np.arange(num_observations), np.repeat(label, num_observations), blue, green, red, red_edge_1, red_edge_2, red_edge_3, nir, red_edge_4, swir_1, swir_2, doy))\n",
    "\n",
    "    return data"
   ]
  },
  {
   "cell_type": "code",
   "execution_count": null,
   "metadata": {},
   "outputs": [],
   "source": [
    "def convert_to_df(filepath, use_value, start_id):\n",
    "    with open(filepath, \"r\") as file:\n",
    "        lines = file.readlines()\n",
    "\n",
    "    data = np.vstack([process_single_line(line, start_id + id) for id, line in tqdm(enumerate(lines), total=len(lines))])\n",
    "    data = pd.DataFrame(data, columns=[\"id\", \"time\", \"label\", \"blue\", \"green\", \"red\", \"red_edge_1\", \"red_edge_2\", \"red_edge_3\", \"nir\", \"red_edge_4\", \"swir_1\", \"swir_2\", \"doy\"])\n",
    "\n",
    "    data[\"id\"] = data[\"id\"].astype(int)\n",
    "    data[\"time\"] = data[\"time\"].astype(int)\n",
    "    data[\"doy\"] = data[\"doy\"].astype(int)\n",
    "    data[\"label\"] = data[\"label\"].astype(int)\n",
    "\n",
    "    data[\"use_bert\"] = use_value\n",
    "\n",
    "    return data"
   ]
  },
  {
   "cell_type": "code",
   "execution_count": null,
   "metadata": {},
   "outputs": [],
   "source": [
    "train_df = convert_to_df(\"data/California-Labeled/Train.csv\", 0, 0)\n",
    "val_df = convert_to_df(\"data/California-Labeled/Validate.csv\", 1, train_df.id.max() + 1)\n",
    "test_df = convert_to_df(\"data/California-Labeled/Test.csv\", 2, val_df.id.max() + 1)"
   ]
  },
  {
   "cell_type": "code",
   "execution_count": null,
   "metadata": {},
   "outputs": [],
   "source": [
    "pd.concat([train_df, val_df, test_df], ignore_index=True).to_parquet(\"data/california_sits_bert_original.parquet\", compression=\"brotli\")"
   ]
  }
 ],
 "metadata": {
  "kernelspec": {
   "display_name": "venv",
   "language": "python",
   "name": "python3"
  },
  "language_info": {
   "codemirror_mode": {
    "name": "ipython",
    "version": 3
   },
   "file_extension": ".py",
   "mimetype": "text/x-python",
   "name": "python",
   "nbconvert_exporter": "python",
   "pygments_lexer": "ipython3",
   "version": "3.10.12"
  }
 },
 "nbformat": 4,
 "nbformat_minor": 2
}
